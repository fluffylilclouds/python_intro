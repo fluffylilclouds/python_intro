{
 "cells": [
  {
   "cell_type": "markdown",
   "metadata": {},
   "source": [
    "# Cat name generator\n"
   ]
  },
  {
   "cell_type": "code",
   "execution_count": 4,
   "metadata": {},
   "outputs": [],
   "source": [
    "input=\"\"\"cute, genial, fluffy, passionate, witty\n",
    " alien, cat, dog, dinosaur, human\n",
    " house, sauna, paradise, toilet, utopia\"\"\""
   ]
  },
  {
   "cell_type": "code",
   "execution_count": 5,
   "metadata": {},
   "outputs": [
    {
     "name": "stdout",
     "output_type": "stream",
     "text": [
      "cute, genial, fluffy, passionate, witty\n",
      " alien, cat, dog, dinosaur, human\n",
      " house, sauna, paradise, toilet, utopia\n",
      "['cute, genial, fluffy, passionate, witty', ' alien, cat, dog, dinosaur, human', ' house, sauna, paradise, toilet, utopia']\n"
     ]
    }
   ],
   "source": [
    "print(input)\n",
    "lines=input.splitlines()\n",
    "print(lines)"
   ]
  },
  {
   "cell_type": "code",
   "execution_count": 8,
   "metadata": {},
   "outputs": [
    {
     "name": "stdout",
     "output_type": "stream",
     "text": [
      "['cute', ' genial', ' fluffy', ' passionate', ' witty']\n",
      "[' alien', ' cat', ' dog', ' dinosaur', ' human']\n",
      "[' house', ' sauna', ' paradise', ' toilet', ' utopia']\n"
     ]
    }
   ],
   "source": [
    "result=[]\n",
    "for line in lines:\n",
    "    adjectives=line.split(\",\")\n",
    "    print(adjectives)\n",
    "    result.append(adjectives)"
   ]
  },
  {
   "cell_type": "code",
   "execution_count": null,
   "metadata": {},
   "outputs": [],
   "source": []
  }
 ],
 "metadata": {
  "kernelspec": {
   "display_name": "Python 3.8.9 64-bit",
   "language": "python",
   "name": "python3"
  },
  "language_info": {
   "codemirror_mode": {
    "name": "ipython",
    "version": 3
   },
   "file_extension": ".py",
   "mimetype": "text/x-python",
   "name": "python",
   "nbconvert_exporter": "python",
   "pygments_lexer": "ipython3",
   "version": "3.8.9"
  },
  "orig_nbformat": 4,
  "vscode": {
   "interpreter": {
    "hash": "31f2aee4e71d21fbe5cf8b01ff0e069b9275f58929596ceb00d14d90e3e16cd6"
   }
  }
 },
 "nbformat": 4,
 "nbformat_minor": 2
}
