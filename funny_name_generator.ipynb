{
 "cells": [
  {
   "cell_type": "markdown",
   "metadata": {},
   "source": [
    "# Cat name generator\n"
   ]
  },
  {
   "cell_type": "code",
   "execution_count": 19,
   "metadata": {},
   "outputs": [
    {
     "name": "stdout",
     "output_type": "stream",
     "text": [
      "cute, genial, fluffy, passionate, witty, explicit, licentious, convivial, jocular\n",
      "alien, baby, dog, dinosaur, human, piece of shit, uncle, schwanz, pig\n",
      "house, sauna, paradise, toilet, utopia, hell, changing room, brothel, mansion\n"
     ]
    }
   ],
   "source": [
    "\n",
    "input=\"\"\"cute, genial, fluffy, passionate, witty, explicit, licentious, convivial, jocular\n",
    "alien, baby, dog, dinosaur, human, piece of shit, uncle, schwanz, pig\n",
    "house, sauna, paradise, toilet, utopia, hell, changing room, brothel, mansion\"\"\"\n",
    "print(input)"
   ]
  },
  {
   "cell_type": "code",
   "execution_count": 20,
   "metadata": {},
   "outputs": [
    {
     "name": "stdout",
     "output_type": "stream",
     "text": [
      "['cute, genial, fluffy, passionate, witty, explicit, licentious, convivial, jocular', 'alien, baby, dog, dinosaur, human, piece of shit, uncle, schwanz, pig', 'house, sauna, paradise, toilet, utopia, hell, changing room, brothel, mansion']\n"
     ]
    }
   ],
   "source": [
    "\n",
    "lines=input.splitlines()\n",
    "print(lines)"
   ]
  },
  {
   "cell_type": "code",
   "execution_count": 21,
   "metadata": {},
   "outputs": [
    {
     "name": "stdout",
     "output_type": "stream",
     "text": [
      "['cute', ' genial', ' fluffy', ' passionate', ' witty', ' explicit', ' licentious', ' convivial', ' jocular']\n",
      "['alien', ' baby', ' dog', ' dinosaur', ' human', ' piece of shit', ' uncle', ' schwanz', ' pig']\n",
      "['house', ' sauna', ' paradise', ' toilet', ' utopia', ' hell', ' changing room', ' brothel', ' mansion']\n"
     ]
    }
   ],
   "source": [
    "result=[]\n",
    "for line in lines:\n",
    "    words=line.split(\",\")\n",
    "    print(words)\n",
    "    result.append(words)"
   ]
  },
  {
   "cell_type": "code",
   "execution_count": 33,
   "metadata": {},
   "outputs": [
    {
     "data": {
      "text/plain": [
       "9"
      ]
     },
     "execution_count": 33,
     "metadata": {},
     "output_type": "execute_result"
    }
   ],
   "source": [
    "len(result[0])\n",
    "\n"
   ]
  },
  {
   "cell_type": "code",
   "execution_count": 23,
   "metadata": {},
   "outputs": [
    {
     "name": "stdout",
     "output_type": "stream",
     "text": [
      "an  witty alien in an  utopia\n"
     ]
    }
   ],
   "source": [
    "# first [] line first, second [] number of item in line\n",
    "print (\"an \"+result[0][4]+\" \"+result[1][0]+\" in an \"+result[2][4])"
   ]
  },
  {
   "cell_type": "code",
   "execution_count": 34,
   "metadata": {},
   "outputs": [],
   "source": [
    "import random\n",
    "import math\n",
    "\n",
    "def generate_random_sentence():\n",
    "    random_number0= random.random() # generate nr between 0 and 1 => 0.5940689405843905834\n",
    "    my_desired_index0 = random_number0 * len(result[0]) # let the number be between 0 and 3 => 2.7587493574\n",
    "    my_desired_index_floored0 =  math.floor(my_desired_index0) # to floor is to make number whole (no decimal point) (becomes from FLOAT to INT )\n",
    "\n",
    "    random_number1 = random.random() \n",
    "    my_desired_index1 = random_number1 * len(result[1]) \n",
    "    my_desired_index_floored1 =  math.floor(my_desired_index1) \n",
    "\n",
    "    random_number2 = random.random() \n",
    "    my_desired_index2 = random_number2 * len(result[2]) \n",
    "    my_desired_index_floored2 =  math.floor(my_desired_index2) \n",
    "\n",
    "    print (\"an \"+result[0][my_desired_index_floored0]+\" \"+result[1][my_desired_index_floored1]+\" in an \"+result[2][my_desired_index_floored2])"
   ]
  },
  {
   "cell_type": "code",
   "execution_count": 35,
   "metadata": {},
   "outputs": [
    {
     "name": "stdout",
     "output_type": "stream",
     "text": [
      "an cute  uncle in an  toilet\n",
      "an  fluffy  dinosaur in an  toilet\n",
      "an  jocular alien in an  brothel\n",
      "an  explicit  human in an  sauna\n",
      "an  jocular  pig in an  mansion\n",
      "an  licentious  pig in an  mansion\n",
      "an  genial  human in an  paradise\n",
      "an  passionate  baby in an  mansion\n",
      "an  convivial  piece of shit in an  changing room\n",
      "an  licentious alien in an house\n"
     ]
    }
   ],
   "source": [
    "for i in range(0, 10): # 10 is the no. of results\n",
    "    generate_random_sentence()\n"
   ]
  },
  {
   "cell_type": "code",
   "execution_count": null,
   "metadata": {},
   "outputs": [],
   "source": [
    "# an cute  uncle in an  toilet\n",
    "# an  fluffy  dinosaur in an  toilet\n",
    "# an  jocular alien in an  brothel\n",
    "# an  explicit  human in an  sauna\n",
    "# an  jocular  pig in an  mansion\n",
    "# an  licentious  pig in an  mansion\n",
    "# an  genial  human in an  paradise\n",
    "# an  passionate  baby in an  mansion\n",
    "# an  convivial  piece of shit in an  changing room\n",
    "# an  licentious alien in an house"
   ]
  }
 ],
 "metadata": {
  "kernelspec": {
   "display_name": "Python 3.8.9 64-bit",
   "language": "python",
   "name": "python3"
  },
  "language_info": {
   "codemirror_mode": {
    "name": "ipython",
    "version": 3
   },
   "file_extension": ".py",
   "mimetype": "text/x-python",
   "name": "python",
   "nbconvert_exporter": "python",
   "pygments_lexer": "ipython3",
   "version": "3.8.9"
  },
  "orig_nbformat": 4,
  "vscode": {
   "interpreter": {
    "hash": "31f2aee4e71d21fbe5cf8b01ff0e069b9275f58929596ceb00d14d90e3e16cd6"
   }
  }
 },
 "nbformat": 4,
 "nbformat_minor": 2
}
