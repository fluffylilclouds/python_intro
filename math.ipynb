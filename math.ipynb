{
 "cells": [
  {
   "cell_type": "markdown",
   "metadata": {},
   "source": [
    "# math example\n",
    "- summarisation\n",
    "- product"
   ]
  },
  {
   "cell_type": "code",
   "execution_count": 21,
   "metadata": {},
   "outputs": [
    {
     "name": "stdout",
     "output_type": "stream",
     "text": [
      "5\n"
     ]
    }
   ],
   "source": [
    "print(3+2)"
   ]
  },
  {
   "cell_type": "code",
   "execution_count": 22,
   "metadata": {},
   "outputs": [
    {
     "name": "stdout",
     "output_type": "stream",
     "text": [
      "6\n"
     ]
    }
   ],
   "source": [
    "# ∑\n",
    "x=[1,3,6,8,9,11]\n",
    "print(x[2])"
   ]
  },
  {
   "cell_type": "code",
   "execution_count": 27,
   "metadata": {},
   "outputs": [
    {
     "name": "stdout",
     "output_type": "stream",
     "text": [
      "sumresult0\n",
      "sumresult1\n",
      "sumresult4\n",
      "sumresult10\n",
      "sumresult18\n",
      "sumresult27\n",
      "38\n"
     ]
    }
   ],
   "source": [
    "sumresult=0\n",
    "for item in x:\n",
    "    print(\"sumresult\"+str(sumresult))\n",
    "    sumresult=sumresult+item\n",
    "print(sumresult)"
   ]
  },
  {
   "cell_type": "code",
   "execution_count": 25,
   "metadata": {},
   "outputs": [
    {
     "name": "stdout",
     "output_type": "stream",
     "text": [
      "productresult 1\n",
      "productresult 1\n",
      "productresult 3\n",
      "productresult 18\n",
      "productresult 144\n",
      "productresult 1296\n",
      "14256\n"
     ]
    }
   ],
   "source": [
    "# Π\n",
    "productresult=1\n",
    "for item in x:\n",
    "    print(\"productresult \"+str(productresult))\n",
    "    productresult=productresult*item\n",
    "print(productresult)"
   ]
  }
 ],
 "metadata": {
  "kernelspec": {
   "display_name": "Python 3.8.9 64-bit",
   "language": "python",
   "name": "python3"
  },
  "language_info": {
   "codemirror_mode": {
    "name": "ipython",
    "version": 3
   },
   "file_extension": ".py",
   "mimetype": "text/x-python",
   "name": "python",
   "nbconvert_exporter": "python",
   "pygments_lexer": "ipython3",
   "version": "3.8.9"
  },
  "orig_nbformat": 4,
  "vscode": {
   "interpreter": {
    "hash": "31f2aee4e71d21fbe5cf8b01ff0e069b9275f58929596ceb00d14d90e3e16cd6"
   }
  }
 },
 "nbformat": 4,
 "nbformat_minor": 2
}
